{
 "cells": [
  {
   "cell_type": "markdown",
   "metadata": {},
   "source": [
    "# MNIST - Handwriting Recognition"
   ]
  },
  {
   "cell_type": "code",
   "execution_count": 2,
   "metadata": {
    "collapsed": false
   },
   "outputs": [],
   "source": [
    "from com.yahoo.ml.caffe.DisplayUtils import *\n",
    "from com.yahoo.ml.caffe.CaffeOnSpark import *\n",
    "from com.yahoo.ml.caffe.Config import *\n",
    "from com.yahoo.ml.caffe.DataSource import *"
   ]
  },
  {
   "cell_type": "markdown",
   "metadata": {},
   "source": [
    "## Training Data"
   ]
  },
  {
   "cell_type": "code",
   "execution_count": 1,
   "metadata": {
    "collapsed": false
   },
   "outputs": [],
   "source": [
    "df = sqlCtx.read.parquet('/Users/afeng/dev/ml/CaffeOnSpark/data/mnist_test_dataframe')"
   ]
  },
  {
   "cell_type": "code",
   "execution_count": 3,
   "metadata": {
    "collapsed": false
   },
   "outputs": [
    {
     "data": {
      "text/html": [
       "<table><tr><th>Index</th><th>Label</th><th>Image</th><tr><td>00000000</td><td>7</td><td><img src='data:image/png;base64,iVBORw0KGgoAAAANSUhEUgAAABwAAAAcCAAAAABXZoBIAAAAxUlEQVR4nGNgGDaAEUKFpD77sfTFHeyS9xQYGBg+X4UKPuk6w8DAwMDAAuGm6l/TMnSweCzLwPDntSTDozPIOhkYGBgYBA3PmDIw/Lh1XShnGi5nBP+9KIRLTuzl/2AokwlDMlv0/U1cGq1//rPDJcfQ+m83Ky45zrM/rHBqrPu3Daec9+8PlrjkhO/+W4ZLjvn0v9vKuCTV/v3zxSUn/+BfMSMuydZ//0xwydl+QpdEClsbHoa7X1AkWZA5F53f4TIWEwAAaRE8kJuHrgAAAAAASUVORK5CYII=' /></td></tr><tr><td>00000001</td><td>2</td><td><img src='data:image/png;base64,iVBORw0KGgoAAAANSUhEUgAAABwAAAAcCAAAAABXZoBIAAAA6ElEQVR4nGNgoAlgRDBLOPVCGKYfX4xN2cq/f//+/fv3lhwOuat9G/7+rcKUM/n195ICDwPbub89mJK+vy9JMjAwVP3464jFWHkhBgYGhot/sUoyMDAwMJR+/3uMC4ecz/e/z+2R+EwormJjWHkQh8YN3/7O58EhJ/nq70tlXK459vdvLy45vx9/9+IyVPgEHo1tf/+uxaWR4cffv5LoYixIbKHfDAwMH3+z8jMIFjIw/C3/hix5iYGBgWH1c/FwCPdFKzwlrPNHqPrzj2HTGYYjxxHJpIyVgUE7nIFh3gOGdddxuWyAAQCfcVM+FkfDOQAAAABJRU5ErkJggg==' /></td></tr><tr><td>00000002</td><td>1</td><td><img src='data:image/png;base64,iVBORw0KGgoAAAANSUhEUgAAABwAAAAcCAAAAABXZoBIAAAAiElEQVR4nGNgGARA7V8unM2ELmn47ylune0fccvpfpmG4KAbq861ErfOU/e5ccop/LuBxEMz1p7hNW5JXYYunKZavj3LgVOns9CNHzgl9f+vwWmqxIvrKHwUnQliJ3BLyjO8x2kqw5N/Tjh12orj1sfQ++8sMy6dXF4Ma/7i0sh6bAMXHnPpBAAPgx/ARH1j7wAAAABJRU5ErkJggg==' /></td></tr><tr><td>00000003</td><td>0</td><td><img src='data:image/png;base64,iVBORw0KGgoAAAANSUhEUgAAABwAAAAcCAAAAABXZoBIAAAA70lEQVR4nMXQsWoCQRQF0JvBNNrGdjcgIR8gJJVrqRZCfkMkgn+QlEIIAcHaHzClVWySJkmXSgxqIbKCbcrLxRSbNe7M2uqr7syZefAecOTK9fTp78MLUs2ds9nJ+b71OPMfWzdXAALz9ZrSVCQpclp0bbiRpPVckmPlmUh268Ed2bDsfEVx2skCfsif9qkzxcsZAOCWYsHGDy+K/nuM2zmNuV5E6cQYc5/4+UDG0W07iTFfXlGhl45PJGelKGeQrOElgPFb8vJbqtWW0kYpG2qT8W7ZtdEP/zAcFbI2IniMsOkIAKD6zEGl6qXjweoXXfV/5XmKZEMAAAAASUVORK5CYII=' /></td></tr><tr><td>00000004</td><td>4</td><td><img src='data:image/png;base64,iVBORw0KGgoAAAANSUhEUgAAABwAAAAcCAAAAABXZoBIAAAA2klEQVR4nGNgGLzA6AGU4SYLZTAhJN3ZoQy/bgxJFi8Y64wWN7qko+V8KEtIiwvNRt03N3mgzAN/RNEkV3w3hWn8/xdNMuTTZRiz9+9eVlTJlX+yoCyFF7+cUOX4H/6BMdv+wM2AupZdegVMRJnhCppzOM9cFIKwxP7+zYaJskCo73eDt/YxMDDoKMv/Z/iPppNBc9XXP3/+/Hnx/PefP5wwQUa4tKEyAwPDGoaF0TDTsID6P3900exEAEZGhss4Jf8jOYcJXZKD4QdOKxlevMnHLbnZCbcclQAA/k48Hcv/z+EAAAAASUVORK5CYII=' /></td></tr></table>"
      ],
      "text/plain": [
       "<IPython.core.display.HTML object>"
      ]
     },
     "execution_count": 3,
     "metadata": {},
     "output_type": "execute_result"
    }
   ],
   "source": [
    "show_df(df,5)"
   ]
  },
  {
   "cell_type": "markdown",
   "metadata": {},
   "source": [
    "# Training"
   ]
  },
  {
   "cell_type": "code",
   "execution_count": 4,
   "metadata": {
    "collapsed": true
   },
   "outputs": [],
   "source": [
    "cos=CaffeOnSpark(sc)"
   ]
  },
  {
   "cell_type": "code",
   "execution_count": 5,
   "metadata": {
    "collapsed": false
   },
   "outputs": [],
   "source": [
    "args={}\n",
    "args['conf']='/Users/afeng/dev/ml/CaffeOnSpark/data/lenet_dataframe_solver.prototxt'\n",
    "args['model']='file:///tmp/lenet.model'\n",
    "args['devices']='1'\n",
    "args['clusterSize']='1'\n",
    "cfg=Config(sc,args)"
   ]
  },
  {
   "cell_type": "code",
   "execution_count": 6,
   "metadata": {
    "collapsed": false
   },
   "outputs": [],
   "source": [
    "dl_train_source = DataSource(sc).getSource(cfg,True)\n",
    "dl_validation_source = DataSource(sc).getSource(cfg,False)"
   ]
  },
  {
   "cell_type": "code",
   "execution_count": 7,
   "metadata": {
    "collapsed": true
   },
   "outputs": [],
   "source": [
    "cos.train(dl_train_source)"
   ]
  },
  {
   "cell_type": "code",
   "execution_count": 8,
   "metadata": {
    "collapsed": false
   },
   "outputs": [],
   "source": [
    "validation_result_df = cos.trainWithValidation(dl_train_source, dl_validation_source)"
   ]
  },
  {
   "cell_type": "code",
   "execution_count": 31,
   "metadata": {
    "collapsed": false
   },
   "outputs": [
    {
     "data": {
      "text/plain": [
       "199"
      ]
     },
     "execution_count": 31,
     "metadata": {},
     "output_type": "execute_result"
    }
   ],
   "source": [
    "validation_result_df.count()"
   ]
  },
  {
   "cell_type": "code",
   "execution_count": 39,
   "metadata": {
    "collapsed": false
   },
   "outputs": [
    {
     "name": "stdout",
     "output_type": "stream",
     "text": [
      "+------------+-------------+\n",
      "|    accuracy|         loss|\n",
      "+------------+-------------+\n",
      "| [0.8093763]| [0.55813646]|\n",
      "| [0.8937512]| [0.33698168]|\n",
      "| [0.9031262]| [0.32773605]|\n",
      "| [0.8734357]| [0.38087258]|\n",
      "|[0.95156115]|  [0.1565354]|\n",
      "| [0.9531276]| [0.14995836]|\n",
      "| [0.9281297]| [0.20006998]|\n",
      "| [0.9593701]| [0.15223119]|\n",
      "|[0.98437566]|[0.049042027]|\n",
      "|[0.97343445]| [0.07589754]|\n",
      "| [0.9812499]| [0.06388679]|\n",
      "| [0.9874952]| [0.03984064]|\n",
      "| [0.9828122]|[0.051861253]|\n",
      "| [0.9953066]|[0.022694288]|\n",
      "| [0.9828057]| [0.04345445]|\n",
      "| [0.9687469]| [0.10477835]|\n",
      "| [0.9734369]|[0.099641055]|\n",
      "|[0.96405977]| [0.11023067]|\n",
      "| [0.9718719]| [0.09426022]|\n",
      "| [0.9718768]| [0.08968722]|\n",
      "+------------+-------------+\n",
      "only showing top 20 rows\n",
      "\n"
     ]
    }
   ],
   "source": [
    "validation_result_df.show(20)"
   ]
  },
  {
   "cell_type": "code",
   "execution_count": 12,
   "metadata": {
    "collapsed": true
   },
   "outputs": [],
   "source": [
    "%matplotlib notebook\n",
    "from matplotlib import pyplot as plt"
   ]
  },
  {
   "cell_type": "code",
   "execution_count": 14,
   "metadata": {
    "collapsed": false
   },
   "outputs": [
    {
     "data": {
      "application/javascript": [
       "/* Put everything inside the global mpl namespace */\n",
       "window.mpl = {};\n",
       "\n",
       "mpl.get_websocket_type = function() {\n",
       "    if (typeof(WebSocket) !== 'undefined') {\n",
       "        return WebSocket;\n",
       "    } else if (typeof(MozWebSocket) !== 'undefined') {\n",
       "        return MozWebSocket;\n",
       "    } else {\n",
       "        alert('Your browser does not have WebSocket support.' +\n",
       "              'Please try Chrome, Safari or Firefox ≥ 6. ' +\n",
       "              'Firefox 4 and 5 are also supported but you ' +\n",
       "              'have to enable WebSockets in about:config.');\n",
       "    };\n",
       "}\n",
       "\n",
       "mpl.figure = function(figure_id, websocket, ondownload, parent_element) {\n",
       "    this.id = figure_id;\n",
       "\n",
       "    this.ws = websocket;\n",
       "\n",
       "    this.supports_binary = (this.ws.binaryType != undefined);\n",
       "\n",
       "    if (!this.supports_binary) {\n",
       "        var warnings = document.getElementById(\"mpl-warnings\");\n",
       "        if (warnings) {\n",
       "            warnings.style.display = 'block';\n",
       "            warnings.textContent = (\n",
       "                \"This browser does not support binary websocket messages. \" +\n",
       "                    \"Performance may be slow.\");\n",
       "        }\n",
       "    }\n",
       "\n",
       "    this.imageObj = new Image();\n",
       "\n",
       "    this.context = undefined;\n",
       "    this.message = undefined;\n",
       "    this.canvas = undefined;\n",
       "    this.rubberband_canvas = undefined;\n",
       "    this.rubberband_context = undefined;\n",
       "    this.format_dropdown = undefined;\n",
       "\n",
       "    this.image_mode = 'full';\n",
       "\n",
       "    this.root = $('<div/>');\n",
       "    this._root_extra_style(this.root)\n",
       "    this.root.attr('style', 'display: inline-block');\n",
       "\n",
       "    $(parent_element).append(this.root);\n",
       "\n",
       "    this._init_header(this);\n",
       "    this._init_canvas(this);\n",
       "    this._init_toolbar(this);\n",
       "\n",
       "    var fig = this;\n",
       "\n",
       "    this.waiting = false;\n",
       "\n",
       "    this.ws.onopen =  function () {\n",
       "            fig.send_message(\"supports_binary\", {value: fig.supports_binary});\n",
       "            fig.send_message(\"send_image_mode\", {});\n",
       "            fig.send_message(\"refresh\", {});\n",
       "        }\n",
       "\n",
       "    this.imageObj.onload = function() {\n",
       "            if (fig.image_mode == 'full') {\n",
       "                // Full images could contain transparency (where diff images\n",
       "                // almost always do), so we need to clear the canvas so that\n",
       "                // there is no ghosting.\n",
       "                fig.context.clearRect(0, 0, fig.canvas.width, fig.canvas.height);\n",
       "            }\n",
       "            fig.context.drawImage(fig.imageObj, 0, 0);\n",
       "        };\n",
       "\n",
       "    this.imageObj.onunload = function() {\n",
       "        this.ws.close();\n",
       "    }\n",
       "\n",
       "    this.ws.onmessage = this._make_on_message_function(this);\n",
       "\n",
       "    this.ondownload = ondownload;\n",
       "}\n",
       "\n",
       "mpl.figure.prototype._init_header = function() {\n",
       "    var titlebar = $(\n",
       "        '<div class=\"ui-dialog-titlebar ui-widget-header ui-corner-all ' +\n",
       "        'ui-helper-clearfix\"/>');\n",
       "    var titletext = $(\n",
       "        '<div class=\"ui-dialog-title\" style=\"width: 100%; ' +\n",
       "        'text-align: center; padding: 3px;\"/>');\n",
       "    titlebar.append(titletext)\n",
       "    this.root.append(titlebar);\n",
       "    this.header = titletext[0];\n",
       "}\n",
       "\n",
       "\n",
       "\n",
       "mpl.figure.prototype._canvas_extra_style = function(canvas_div) {\n",
       "\n",
       "}\n",
       "\n",
       "\n",
       "mpl.figure.prototype._root_extra_style = function(canvas_div) {\n",
       "\n",
       "}\n",
       "\n",
       "mpl.figure.prototype._init_canvas = function() {\n",
       "    var fig = this;\n",
       "\n",
       "    var canvas_div = $('<div/>');\n",
       "\n",
       "    canvas_div.attr('style', 'position: relative; clear: both; outline: 0');\n",
       "\n",
       "    function canvas_keyboard_event(event) {\n",
       "        return fig.key_event(event, event['data']);\n",
       "    }\n",
       "\n",
       "    canvas_div.keydown('key_press', canvas_keyboard_event);\n",
       "    canvas_div.keyup('key_release', canvas_keyboard_event);\n",
       "    this.canvas_div = canvas_div\n",
       "    this._canvas_extra_style(canvas_div)\n",
       "    this.root.append(canvas_div);\n",
       "\n",
       "    var canvas = $('<canvas/>');\n",
       "    canvas.addClass('mpl-canvas');\n",
       "    canvas.attr('style', \"left: 0; top: 0; z-index: 0; outline: 0\")\n",
       "\n",
       "    this.canvas = canvas[0];\n",
       "    this.context = canvas[0].getContext(\"2d\");\n",
       "\n",
       "    var rubberband = $('<canvas/>');\n",
       "    rubberband.attr('style', \"position: absolute; left: 0; top: 0; z-index: 1;\")\n",
       "\n",
       "    var pass_mouse_events = true;\n",
       "\n",
       "    canvas_div.resizable({\n",
       "        start: function(event, ui) {\n",
       "            pass_mouse_events = false;\n",
       "        },\n",
       "        resize: function(event, ui) {\n",
       "            fig.request_resize(ui.size.width, ui.size.height);\n",
       "        },\n",
       "        stop: function(event, ui) {\n",
       "            pass_mouse_events = true;\n",
       "            fig.request_resize(ui.size.width, ui.size.height);\n",
       "        },\n",
       "    });\n",
       "\n",
       "    function mouse_event_fn(event) {\n",
       "        if (pass_mouse_events)\n",
       "            return fig.mouse_event(event, event['data']);\n",
       "    }\n",
       "\n",
       "    rubberband.mousedown('button_press', mouse_event_fn);\n",
       "    rubberband.mouseup('button_release', mouse_event_fn);\n",
       "    // Throttle sequential mouse events to 1 every 20ms.\n",
       "    rubberband.mousemove('motion_notify', mouse_event_fn);\n",
       "\n",
       "    rubberband.mouseenter('figure_enter', mouse_event_fn);\n",
       "    rubberband.mouseleave('figure_leave', mouse_event_fn);\n",
       "\n",
       "    canvas_div.on(\"wheel\", function (event) {\n",
       "        event = event.originalEvent;\n",
       "        event['data'] = 'scroll'\n",
       "        if (event.deltaY < 0) {\n",
       "            event.step = 1;\n",
       "        } else {\n",
       "            event.step = -1;\n",
       "        }\n",
       "        mouse_event_fn(event);\n",
       "    });\n",
       "\n",
       "    canvas_div.append(canvas);\n",
       "    canvas_div.append(rubberband);\n",
       "\n",
       "    this.rubberband = rubberband;\n",
       "    this.rubberband_canvas = rubberband[0];\n",
       "    this.rubberband_context = rubberband[0].getContext(\"2d\");\n",
       "    this.rubberband_context.strokeStyle = \"#000000\";\n",
       "\n",
       "    this._resize_canvas = function(width, height) {\n",
       "        // Keep the size of the canvas, canvas container, and rubber band\n",
       "        // canvas in synch.\n",
       "        canvas_div.css('width', width)\n",
       "        canvas_div.css('height', height)\n",
       "\n",
       "        canvas.attr('width', width);\n",
       "        canvas.attr('height', height);\n",
       "\n",
       "        rubberband.attr('width', width);\n",
       "        rubberband.attr('height', height);\n",
       "    }\n",
       "\n",
       "    // Set the figure to an initial 600x600px, this will subsequently be updated\n",
       "    // upon first draw.\n",
       "    this._resize_canvas(600, 600);\n",
       "\n",
       "    // Disable right mouse context menu.\n",
       "    $(this.rubberband_canvas).bind(\"contextmenu\",function(e){\n",
       "        return false;\n",
       "    });\n",
       "\n",
       "    function set_focus () {\n",
       "        canvas.focus();\n",
       "        canvas_div.focus();\n",
       "    }\n",
       "\n",
       "    window.setTimeout(set_focus, 100);\n",
       "}\n",
       "\n",
       "mpl.figure.prototype._init_toolbar = function() {\n",
       "    var fig = this;\n",
       "\n",
       "    var nav_element = $('<div/>')\n",
       "    nav_element.attr('style', 'width: 100%');\n",
       "    this.root.append(nav_element);\n",
       "\n",
       "    // Define a callback function for later on.\n",
       "    function toolbar_event(event) {\n",
       "        return fig.toolbar_button_onclick(event['data']);\n",
       "    }\n",
       "    function toolbar_mouse_event(event) {\n",
       "        return fig.toolbar_button_onmouseover(event['data']);\n",
       "    }\n",
       "\n",
       "    for(var toolbar_ind in mpl.toolbar_items) {\n",
       "        var name = mpl.toolbar_items[toolbar_ind][0];\n",
       "        var tooltip = mpl.toolbar_items[toolbar_ind][1];\n",
       "        var image = mpl.toolbar_items[toolbar_ind][2];\n",
       "        var method_name = mpl.toolbar_items[toolbar_ind][3];\n",
       "\n",
       "        if (!name) {\n",
       "            // put a spacer in here.\n",
       "            continue;\n",
       "        }\n",
       "        var button = $('<button/>');\n",
       "        button.addClass('ui-button ui-widget ui-state-default ui-corner-all ' +\n",
       "                        'ui-button-icon-only');\n",
       "        button.attr('role', 'button');\n",
       "        button.attr('aria-disabled', 'false');\n",
       "        button.click(method_name, toolbar_event);\n",
       "        button.mouseover(tooltip, toolbar_mouse_event);\n",
       "\n",
       "        var icon_img = $('<span/>');\n",
       "        icon_img.addClass('ui-button-icon-primary ui-icon');\n",
       "        icon_img.addClass(image);\n",
       "        icon_img.addClass('ui-corner-all');\n",
       "\n",
       "        var tooltip_span = $('<span/>');\n",
       "        tooltip_span.addClass('ui-button-text');\n",
       "        tooltip_span.html(tooltip);\n",
       "\n",
       "        button.append(icon_img);\n",
       "        button.append(tooltip_span);\n",
       "\n",
       "        nav_element.append(button);\n",
       "    }\n",
       "\n",
       "    var fmt_picker_span = $('<span/>');\n",
       "\n",
       "    var fmt_picker = $('<select/>');\n",
       "    fmt_picker.addClass('mpl-toolbar-option ui-widget ui-widget-content');\n",
       "    fmt_picker_span.append(fmt_picker);\n",
       "    nav_element.append(fmt_picker_span);\n",
       "    this.format_dropdown = fmt_picker[0];\n",
       "\n",
       "    for (var ind in mpl.extensions) {\n",
       "        var fmt = mpl.extensions[ind];\n",
       "        var option = $(\n",
       "            '<option/>', {selected: fmt === mpl.default_extension}).html(fmt);\n",
       "        fmt_picker.append(option)\n",
       "    }\n",
       "\n",
       "    // Add hover states to the ui-buttons\n",
       "    $( \".ui-button\" ).hover(\n",
       "        function() { $(this).addClass(\"ui-state-hover\");},\n",
       "        function() { $(this).removeClass(\"ui-state-hover\");}\n",
       "    );\n",
       "\n",
       "    var status_bar = $('<span class=\"mpl-message\"/>');\n",
       "    nav_element.append(status_bar);\n",
       "    this.message = status_bar[0];\n",
       "}\n",
       "\n",
       "mpl.figure.prototype.request_resize = function(x_pixels, y_pixels) {\n",
       "    // Request matplotlib to resize the figure. Matplotlib will then trigger a resize in the client,\n",
       "    // which will in turn request a refresh of the image.\n",
       "    this.send_message('resize', {'width': x_pixels, 'height': y_pixels});\n",
       "}\n",
       "\n",
       "mpl.figure.prototype.send_message = function(type, properties) {\n",
       "    properties['type'] = type;\n",
       "    properties['figure_id'] = this.id;\n",
       "    this.ws.send(JSON.stringify(properties));\n",
       "}\n",
       "\n",
       "mpl.figure.prototype.send_draw_message = function() {\n",
       "    if (!this.waiting) {\n",
       "        this.waiting = true;\n",
       "        this.ws.send(JSON.stringify({type: \"draw\", figure_id: this.id}));\n",
       "    }\n",
       "}\n",
       "\n",
       "\n",
       "mpl.figure.prototype.handle_save = function(fig, msg) {\n",
       "    var format_dropdown = fig.format_dropdown;\n",
       "    var format = format_dropdown.options[format_dropdown.selectedIndex].value;\n",
       "    fig.ondownload(fig, format);\n",
       "}\n",
       "\n",
       "\n",
       "mpl.figure.prototype.handle_resize = function(fig, msg) {\n",
       "    var size = msg['size'];\n",
       "    if (size[0] != fig.canvas.width || size[1] != fig.canvas.height) {\n",
       "        fig._resize_canvas(size[0], size[1]);\n",
       "        fig.send_message(\"refresh\", {});\n",
       "    };\n",
       "}\n",
       "\n",
       "mpl.figure.prototype.handle_rubberband = function(fig, msg) {\n",
       "    var x0 = msg['x0'];\n",
       "    var y0 = fig.canvas.height - msg['y0'];\n",
       "    var x1 = msg['x1'];\n",
       "    var y1 = fig.canvas.height - msg['y1'];\n",
       "    x0 = Math.floor(x0) + 0.5;\n",
       "    y0 = Math.floor(y0) + 0.5;\n",
       "    x1 = Math.floor(x1) + 0.5;\n",
       "    y1 = Math.floor(y1) + 0.5;\n",
       "    var min_x = Math.min(x0, x1);\n",
       "    var min_y = Math.min(y0, y1);\n",
       "    var width = Math.abs(x1 - x0);\n",
       "    var height = Math.abs(y1 - y0);\n",
       "\n",
       "    fig.rubberband_context.clearRect(\n",
       "        0, 0, fig.canvas.width, fig.canvas.height);\n",
       "\n",
       "    fig.rubberband_context.strokeRect(min_x, min_y, width, height);\n",
       "}\n",
       "\n",
       "mpl.figure.prototype.handle_figure_label = function(fig, msg) {\n",
       "    // Updates the figure title.\n",
       "    fig.header.textContent = msg['label'];\n",
       "}\n",
       "\n",
       "mpl.figure.prototype.handle_cursor = function(fig, msg) {\n",
       "    var cursor = msg['cursor'];\n",
       "    switch(cursor)\n",
       "    {\n",
       "    case 0:\n",
       "        cursor = 'pointer';\n",
       "        break;\n",
       "    case 1:\n",
       "        cursor = 'default';\n",
       "        break;\n",
       "    case 2:\n",
       "        cursor = 'crosshair';\n",
       "        break;\n",
       "    case 3:\n",
       "        cursor = 'move';\n",
       "        break;\n",
       "    }\n",
       "    fig.rubberband_canvas.style.cursor = cursor;\n",
       "}\n",
       "\n",
       "mpl.figure.prototype.handle_message = function(fig, msg) {\n",
       "    fig.message.textContent = msg['message'];\n",
       "}\n",
       "\n",
       "mpl.figure.prototype.handle_draw = function(fig, msg) {\n",
       "    // Request the server to send over a new figure.\n",
       "    fig.send_draw_message();\n",
       "}\n",
       "\n",
       "mpl.figure.prototype.handle_image_mode = function(fig, msg) {\n",
       "    fig.image_mode = msg['mode'];\n",
       "}\n",
       "\n",
       "mpl.figure.prototype.updated_canvas_event = function() {\n",
       "    // Called whenever the canvas gets updated.\n",
       "    this.send_message(\"ack\", {});\n",
       "}\n",
       "\n",
       "// A function to construct a web socket function for onmessage handling.\n",
       "// Called in the figure constructor.\n",
       "mpl.figure.prototype._make_on_message_function = function(fig) {\n",
       "    return function socket_on_message(evt) {\n",
       "        if (evt.data instanceof Blob) {\n",
       "            /* FIXME: We get \"Resource interpreted as Image but\n",
       "             * transferred with MIME type text/plain:\" errors on\n",
       "             * Chrome.  But how to set the MIME type?  It doesn't seem\n",
       "             * to be part of the websocket stream */\n",
       "            evt.data.type = \"image/png\";\n",
       "\n",
       "            /* Free the memory for the previous frames */\n",
       "            if (fig.imageObj.src) {\n",
       "                (window.URL || window.webkitURL).revokeObjectURL(\n",
       "                    fig.imageObj.src);\n",
       "            }\n",
       "\n",
       "            fig.imageObj.src = (window.URL || window.webkitURL).createObjectURL(\n",
       "                evt.data);\n",
       "            fig.updated_canvas_event();\n",
       "            fig.waiting = false;\n",
       "            return;\n",
       "        }\n",
       "        else if (typeof evt.data === 'string' && evt.data.slice(0, 21) == \"data:image/png;base64\") {\n",
       "            fig.imageObj.src = evt.data;\n",
       "            fig.updated_canvas_event();\n",
       "            fig.waiting = false;\n",
       "            return;\n",
       "        }\n",
       "\n",
       "        var msg = JSON.parse(evt.data);\n",
       "        var msg_type = msg['type'];\n",
       "\n",
       "        // Call the  \"handle_{type}\" callback, which takes\n",
       "        // the figure and JSON message as its only arguments.\n",
       "        try {\n",
       "            var callback = fig[\"handle_\" + msg_type];\n",
       "        } catch (e) {\n",
       "            console.log(\"No handler for the '\" + msg_type + \"' message type: \", msg);\n",
       "            return;\n",
       "        }\n",
       "\n",
       "        if (callback) {\n",
       "            try {\n",
       "                // console.log(\"Handling '\" + msg_type + \"' message: \", msg);\n",
       "                callback(fig, msg);\n",
       "            } catch (e) {\n",
       "                console.log(\"Exception inside the 'handler_\" + msg_type + \"' callback:\", e, e.stack, msg);\n",
       "            }\n",
       "        }\n",
       "    };\n",
       "}\n",
       "\n",
       "// from http://stackoverflow.com/questions/1114465/getting-mouse-location-in-canvas\n",
       "mpl.findpos = function(e) {\n",
       "    //this section is from http://www.quirksmode.org/js/events_properties.html\n",
       "    var targ;\n",
       "    if (!e)\n",
       "        e = window.event;\n",
       "    if (e.target)\n",
       "        targ = e.target;\n",
       "    else if (e.srcElement)\n",
       "        targ = e.srcElement;\n",
       "    if (targ.nodeType == 3) // defeat Safari bug\n",
       "        targ = targ.parentNode;\n",
       "\n",
       "    // jQuery normalizes the pageX and pageY\n",
       "    // pageX,Y are the mouse positions relative to the document\n",
       "    // offset() returns the position of the element relative to the document\n",
       "    var x = e.pageX - $(targ).offset().left;\n",
       "    var y = e.pageY - $(targ).offset().top;\n",
       "\n",
       "    return {\"x\": x, \"y\": y};\n",
       "};\n",
       "\n",
       "/*\n",
       " * return a copy of an object with only non-object keys\n",
       " * we need this to avoid circular references\n",
       " * http://stackoverflow.com/a/24161582/3208463\n",
       " */\n",
       "function simpleKeys (original) {\n",
       "  return Object.keys(original).reduce(function (obj, key) {\n",
       "    if (typeof original[key] !== 'object')\n",
       "        obj[key] = original[key]\n",
       "    return obj;\n",
       "  }, {});\n",
       "}\n",
       "\n",
       "mpl.figure.prototype.mouse_event = function(event, name) {\n",
       "    var canvas_pos = mpl.findpos(event)\n",
       "\n",
       "    if (name === 'button_press')\n",
       "    {\n",
       "        this.canvas.focus();\n",
       "        this.canvas_div.focus();\n",
       "    }\n",
       "\n",
       "    var x = canvas_pos.x;\n",
       "    var y = canvas_pos.y;\n",
       "\n",
       "    this.send_message(name, {x: x, y: y, button: event.button,\n",
       "                             step: event.step,\n",
       "                             guiEvent: simpleKeys(event)});\n",
       "\n",
       "    /* This prevents the web browser from automatically changing to\n",
       "     * the text insertion cursor when the button is pressed.  We want\n",
       "     * to control all of the cursor setting manually through the\n",
       "     * 'cursor' event from matplotlib */\n",
       "    event.preventDefault();\n",
       "    return false;\n",
       "}\n",
       "\n",
       "mpl.figure.prototype._key_event_extra = function(event, name) {\n",
       "    // Handle any extra behaviour associated with a key event\n",
       "}\n",
       "\n",
       "mpl.figure.prototype.key_event = function(event, name) {\n",
       "\n",
       "    // Prevent repeat events\n",
       "    if (name == 'key_press')\n",
       "    {\n",
       "        if (event.which === this._key)\n",
       "            return;\n",
       "        else\n",
       "            this._key = event.which;\n",
       "    }\n",
       "    if (name == 'key_release')\n",
       "        this._key = null;\n",
       "\n",
       "    var value = '';\n",
       "    if (event.ctrlKey && event.which != 17)\n",
       "        value += \"ctrl+\";\n",
       "    if (event.altKey && event.which != 18)\n",
       "        value += \"alt+\";\n",
       "    if (event.shiftKey && event.which != 16)\n",
       "        value += \"shift+\";\n",
       "\n",
       "    value += 'k';\n",
       "    value += event.which.toString();\n",
       "\n",
       "    this._key_event_extra(event, name);\n",
       "\n",
       "    this.send_message(name, {key: value,\n",
       "                             guiEvent: simpleKeys(event)});\n",
       "    return false;\n",
       "}\n",
       "\n",
       "mpl.figure.prototype.toolbar_button_onclick = function(name) {\n",
       "    if (name == 'download') {\n",
       "        this.handle_save(this, null);\n",
       "    } else {\n",
       "        this.send_message(\"toolbar_button\", {name: name});\n",
       "    }\n",
       "};\n",
       "\n",
       "mpl.figure.prototype.toolbar_button_onmouseover = function(tooltip) {\n",
       "    this.message.textContent = tooltip;\n",
       "};\n",
       "mpl.toolbar_items = [[\"Home\", \"Reset original view\", \"fa fa-home icon-home\", \"home\"], [\"Back\", \"Back to  previous view\", \"fa fa-arrow-left icon-arrow-left\", \"back\"], [\"Forward\", \"Forward to next view\", \"fa fa-arrow-right icon-arrow-right\", \"forward\"], [\"\", \"\", \"\", \"\"], [\"Pan\", \"Pan axes with left mouse, zoom with right\", \"fa fa-arrows icon-move\", \"pan\"], [\"Zoom\", \"Zoom to rectangle\", \"fa fa-square-o icon-check-empty\", \"zoom\"], [\"\", \"\", \"\", \"\"], [\"Download\", \"Download plot\", \"fa fa-floppy-o icon-save\", \"download\"]];\n",
       "\n",
       "mpl.extensions = [\"eps\", \"jpeg\", \"pdf\", \"png\", \"ps\", \"raw\", \"svg\", \"tif\"];\n",
       "\n",
       "mpl.default_extension = \"png\";var comm_websocket_adapter = function(comm) {\n",
       "    // Create a \"websocket\"-like object which calls the given IPython comm\n",
       "    // object with the appropriate methods. Currently this is a non binary\n",
       "    // socket, so there is still some room for performance tuning.\n",
       "    var ws = {};\n",
       "\n",
       "    ws.close = function() {\n",
       "        comm.close()\n",
       "    };\n",
       "    ws.send = function(m) {\n",
       "        //console.log('sending', m);\n",
       "        comm.send(m);\n",
       "    };\n",
       "    // Register the callback with on_msg.\n",
       "    comm.on_msg(function(msg) {\n",
       "        //console.log('receiving', msg['content']['data'], msg);\n",
       "        // Pass the mpl event to the overriden (by mpl) onmessage function.\n",
       "        ws.onmessage(msg['content']['data'])\n",
       "    });\n",
       "    return ws;\n",
       "}\n",
       "\n",
       "mpl.mpl_figure_comm = function(comm, msg) {\n",
       "    // This is the function which gets called when the mpl process\n",
       "    // starts-up an IPython Comm through the \"matplotlib\" channel.\n",
       "\n",
       "    var id = msg.content.data.id;\n",
       "    // Get hold of the div created by the display call when the Comm\n",
       "    // socket was opened in Python.\n",
       "    var element = $(\"#\" + id);\n",
       "    var ws_proxy = comm_websocket_adapter(comm)\n",
       "\n",
       "    function ondownload(figure, format) {\n",
       "        window.open(figure.imageObj.src);\n",
       "    }\n",
       "\n",
       "    var fig = new mpl.figure(id, ws_proxy,\n",
       "                           ondownload,\n",
       "                           element.get(0));\n",
       "\n",
       "    // Call onopen now - mpl needs it, as it is assuming we've passed it a real\n",
       "    // web socket which is closed, not our websocket->open comm proxy.\n",
       "    ws_proxy.onopen();\n",
       "\n",
       "    fig.parent_element = element.get(0);\n",
       "    fig.cell_info = mpl.find_output_cell(\"<div id='\" + id + \"'></div>\");\n",
       "    if (!fig.cell_info) {\n",
       "        console.error(\"Failed to find cell for figure\", id, fig);\n",
       "        return;\n",
       "    }\n",
       "\n",
       "    var output_index = fig.cell_info[2]\n",
       "    var cell = fig.cell_info[0];\n",
       "\n",
       "};\n",
       "\n",
       "mpl.figure.prototype.handle_close = function(fig, msg) {\n",
       "    fig.root.unbind('remove')\n",
       "\n",
       "    // Update the output cell to use the data from the current canvas.\n",
       "    fig.push_to_output();\n",
       "    var dataURL = fig.canvas.toDataURL();\n",
       "    // Re-enable the keyboard manager in IPython - without this line, in FF,\n",
       "    // the notebook keyboard shortcuts fail.\n",
       "    IPython.keyboard_manager.enable()\n",
       "    $(fig.parent_element).html('<img src=\"' + dataURL + '\">');\n",
       "    fig.close_ws(fig, msg);\n",
       "}\n",
       "\n",
       "mpl.figure.prototype.close_ws = function(fig, msg){\n",
       "    fig.send_message('closing', msg);\n",
       "    // fig.ws.close()\n",
       "}\n",
       "\n",
       "mpl.figure.prototype.push_to_output = function(remove_interactive) {\n",
       "    // Turn the data on the canvas into data in the output cell.\n",
       "    var dataURL = this.canvas.toDataURL();\n",
       "    this.cell_info[1]['text/html'] = '<img src=\"' + dataURL + '\">';\n",
       "}\n",
       "\n",
       "mpl.figure.prototype.updated_canvas_event = function() {\n",
       "    // Tell IPython that the notebook contents must change.\n",
       "    IPython.notebook.set_dirty(true);\n",
       "    this.send_message(\"ack\", {});\n",
       "    var fig = this;\n",
       "    // Wait a second, then push the new image to the DOM so\n",
       "    // that it is saved nicely (might be nice to debounce this).\n",
       "    setTimeout(function () { fig.push_to_output() }, 1000);\n",
       "}\n",
       "\n",
       "mpl.figure.prototype._init_toolbar = function() {\n",
       "    var fig = this;\n",
       "\n",
       "    var nav_element = $('<div/>')\n",
       "    nav_element.attr('style', 'width: 100%');\n",
       "    this.root.append(nav_element);\n",
       "\n",
       "    // Define a callback function for later on.\n",
       "    function toolbar_event(event) {\n",
       "        return fig.toolbar_button_onclick(event['data']);\n",
       "    }\n",
       "    function toolbar_mouse_event(event) {\n",
       "        return fig.toolbar_button_onmouseover(event['data']);\n",
       "    }\n",
       "\n",
       "    for(var toolbar_ind in mpl.toolbar_items){\n",
       "        var name = mpl.toolbar_items[toolbar_ind][0];\n",
       "        var tooltip = mpl.toolbar_items[toolbar_ind][1];\n",
       "        var image = mpl.toolbar_items[toolbar_ind][2];\n",
       "        var method_name = mpl.toolbar_items[toolbar_ind][3];\n",
       "\n",
       "        if (!name) { continue; };\n",
       "\n",
       "        var button = $('<button class=\"btn btn-default\" href=\"#\" title=\"' + name + '\"><i class=\"fa ' + image + ' fa-lg\"></i></button>');\n",
       "        button.click(method_name, toolbar_event);\n",
       "        button.mouseover(tooltip, toolbar_mouse_event);\n",
       "        nav_element.append(button);\n",
       "    }\n",
       "\n",
       "    // Add the status bar.\n",
       "    var status_bar = $('<span class=\"mpl-message\" style=\"text-align:right; float: right;\"/>');\n",
       "    nav_element.append(status_bar);\n",
       "    this.message = status_bar[0];\n",
       "\n",
       "    // Add the close button to the window.\n",
       "    var buttongrp = $('<div class=\"btn-group inline pull-right\"></div>');\n",
       "    var button = $('<button class=\"btn btn-mini btn-primary\" href=\"#\" title=\"Stop Interaction\"><i class=\"fa fa-power-off icon-remove icon-large\"></i></button>');\n",
       "    button.click(function (evt) { fig.handle_close(fig, {}); } );\n",
       "    button.mouseover('Stop Interaction', toolbar_mouse_event);\n",
       "    buttongrp.append(button);\n",
       "    var titlebar = this.root.find($('.ui-dialog-titlebar'));\n",
       "    titlebar.prepend(buttongrp);\n",
       "}\n",
       "\n",
       "mpl.figure.prototype._root_extra_style = function(el){\n",
       "    var fig = this\n",
       "    el.on(\"remove\", function(){\n",
       "\tfig.close_ws(fig, {});\n",
       "    });\n",
       "}\n",
       "\n",
       "mpl.figure.prototype._canvas_extra_style = function(el){\n",
       "    // this is important to make the div 'focusable\n",
       "    el.attr('tabindex', 0)\n",
       "    // reach out to IPython and tell the keyboard manager to turn it's self\n",
       "    // off when our div gets focus\n",
       "\n",
       "    // location in version 3\n",
       "    if (IPython.notebook.keyboard_manager) {\n",
       "        IPython.notebook.keyboard_manager.register_events(el);\n",
       "    }\n",
       "    else {\n",
       "        // location in version 2\n",
       "        IPython.keyboard_manager.register_events(el);\n",
       "    }\n",
       "\n",
       "}\n",
       "\n",
       "mpl.figure.prototype._key_event_extra = function(event, name) {\n",
       "    var manager = IPython.notebook.keyboard_manager;\n",
       "    if (!manager)\n",
       "        manager = IPython.keyboard_manager;\n",
       "\n",
       "    // Check for shift+enter\n",
       "    if (event.shiftKey && event.which == 13) {\n",
       "        this.canvas_div.blur();\n",
       "        event.shiftKey = false;\n",
       "        // Send a \"J\" for go to next cell\n",
       "        event.which = 74;\n",
       "        event.keyCode = 74;\n",
       "        manager.command_mode();\n",
       "        manager.handle_keydown(event);\n",
       "    }\n",
       "}\n",
       "\n",
       "mpl.figure.prototype.handle_save = function(fig, msg) {\n",
       "    fig.ondownload(fig, null);\n",
       "}\n",
       "\n",
       "\n",
       "mpl.find_output_cell = function(html_output) {\n",
       "    // Return the cell and output element which can be found *uniquely* in the notebook.\n",
       "    // Note - this is a bit hacky, but it is done because the \"notebook_saving.Notebook\"\n",
       "    // IPython event is triggered only after the cells have been serialised, which for\n",
       "    // our purposes (turning an active figure into a static one), is too late.\n",
       "    var cells = IPython.notebook.get_cells();\n",
       "    var ncells = cells.length;\n",
       "    for (var i=0; i<ncells; i++) {\n",
       "        var cell = cells[i];\n",
       "        if (cell.cell_type === 'code'){\n",
       "            for (var j=0; j<cell.output_area.outputs.length; j++) {\n",
       "                var data = cell.output_area.outputs[j];\n",
       "                if (data.data) {\n",
       "                    // IPython >= 3 moved mimebundle to data attribute of output\n",
       "                    data = data.data;\n",
       "                }\n",
       "                if (data['text/html'] == html_output) {\n",
       "                    return [cell, data, j];\n",
       "                }\n",
       "            }\n",
       "        }\n",
       "    }\n",
       "}\n",
       "\n",
       "// Register the function which deals with the matplotlib target/channel.\n",
       "// The kernel may be null if the page has been refreshed.\n",
       "if (IPython.notebook.kernel != null) {\n",
       "    IPython.notebook.kernel.comm_manager.register_target('matplotlib', mpl.mpl_figure_comm);\n",
       "}\n"
      ],
      "text/plain": [
       "<IPython.core.display.Javascript object>"
      ]
     },
     "metadata": {},
     "output_type": "display_data"
    },
    {
     "data": {
      "text/html": [
       "<img src=\"data:image/png;base64,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\">"
      ],
      "text/plain": [
       "<IPython.core.display.HTML object>"
      ]
     },
     "metadata": {},
     "output_type": "display_data"
    },
    {
     "data": {
      "text/plain": [
       "<matplotlib.legend.Legend at 0x11fb31290>"
      ]
     },
     "execution_count": 14,
     "metadata": {},
     "output_type": "execute_result"
    }
   ],
   "source": [
    "validation_panda_df = validation_result_df.toPandas()\n",
    "validation_panda_df.accuracy.apply(lambda x: x[0]).plot()\n",
    "validation_panda_df.loss.apply(lambda x: x[0]).plot()\n",
    "plt.grid()\n",
    "plt.xlabel('Iteration')\n",
    "plt.legend(('Accuracy', 'Loss'))"
   ]
  },
  {
   "cell_type": "markdown",
   "metadata": {},
   "source": [
    "# Test"
   ]
  },
  {
   "cell_type": "code",
   "execution_count": 15,
   "metadata": {
    "collapsed": false
   },
   "outputs": [],
   "source": [
    "dl_test_source = DataSource(sc).getSource(cfg,False)"
   ]
  },
  {
   "cell_type": "code",
   "execution_count": 16,
   "metadata": {
    "collapsed": true
   },
   "outputs": [],
   "source": [
    "test_result=cos.test(dl_test_source)"
   ]
  },
  {
   "cell_type": "code",
   "execution_count": 17,
   "metadata": {
    "collapsed": false
   },
   "outputs": [
    {
     "data": {
      "text/plain": [
       "{u'accuracy': [0.9907852564102564], u'loss': [0.029657003584833756]}"
      ]
     },
     "execution_count": 17,
     "metadata": {},
     "output_type": "execute_result"
    }
   ],
   "source": [
    "test_result"
   ]
  },
  {
   "cell_type": "markdown",
   "metadata": {},
   "source": [
    "# Feature Extraction"
   ]
  },
  {
   "cell_type": "code",
   "execution_count": 18,
   "metadata": {
    "collapsed": false
   },
   "outputs": [],
   "source": [
    "args['features']='accuracy,ip1,ip2'\n",
    "args['label']='label'\n",
    "cfg=Config(sc,args)"
   ]
  },
  {
   "cell_type": "code",
   "execution_count": 19,
   "metadata": {
    "collapsed": true
   },
   "outputs": [],
   "source": [
    "dl_feature_source = DataSource(sc).getSource(cfg,False)"
   ]
  },
  {
   "cell_type": "code",
   "execution_count": 20,
   "metadata": {
    "collapsed": false
   },
   "outputs": [],
   "source": [
    "f=cos.features(dl_feature_source)"
   ]
  },
  {
   "cell_type": "code",
   "execution_count": 21,
   "metadata": {
    "collapsed": false
   },
   "outputs": [
    {
     "name": "stdout",
     "output_type": "stream",
     "text": [
      "+--------+--------+--------------------+--------------------+-----+\n",
      "|SampleID|accuracy|                 ip1|                 ip2|label|\n",
      "+--------+--------+--------------------+--------------------+-----+\n",
      "|00000000|   [1.0]|[2.6088552, 1.172...|[-1.4996569, 1.01...|[7.0]|\n",
      "|00000001|   [1.0]|[-0.0, -0.0, -0.0...|[3.1911962, 6.265...|[2.0]|\n",
      "|00000002|   [1.0]|[-0.0, 0.38665527...|[-0.6574185, 12.7...|[1.0]|\n",
      "|00000003|   [1.0]|[2.7852693, 3.924...|[14.25194, -3.340...|[0.0]|\n",
      "|00000004|   [1.0]|[1.6561224, 0.323...|[-3.2196107, -2.9...|[4.0]|\n",
      "+--------+--------+--------------------+--------------------+-----+\n",
      "only showing top 5 rows\n",
      "\n"
     ]
    }
   ],
   "source": [
    "f.show(5)"
   ]
  },
  {
   "cell_type": "code",
   "execution_count": 22,
   "metadata": {
    "collapsed": false
   },
   "outputs": [
    {
     "data": {
      "text/html": [
       "<div>\n",
       "<table border=\"1\" class=\"dataframe\">\n",
       "  <thead>\n",
       "    <tr style=\"text-align: right;\">\n",
       "      <th></th>\n",
       "      <th>SampleID</th>\n",
       "      <th>Accuracy</th>\n",
       "      <th>Scores</th>\n",
       "      <th>MaxScore</th>\n",
       "      <th>Prediction</th>\n",
       "      <th>Label</th>\n",
       "    </tr>\n",
       "  </thead>\n",
       "  <tbody>\n",
       "    <tr>\n",
       "      <th>0</th>\n",
       "      <td>00000000</td>\n",
       "      <td>1.0</td>\n",
       "      <td>[-1.49965691566, 1.01030933857, 1.5530872345, ...</td>\n",
       "      <td>18.340185</td>\n",
       "      <td>7</td>\n",
       "      <td>7</td>\n",
       "    </tr>\n",
       "    <tr>\n",
       "      <th>1</th>\n",
       "      <td>00000001</td>\n",
       "      <td>1.0</td>\n",
       "      <td>[3.19119620323, 6.26545763016, 22.5383586884, ...</td>\n",
       "      <td>22.538359</td>\n",
       "      <td>2</td>\n",
       "      <td>2</td>\n",
       "    </tr>\n",
       "    <tr>\n",
       "      <th>2</th>\n",
       "      <td>00000002</td>\n",
       "      <td>1.0</td>\n",
       "      <td>[-0.657418489456, 12.7434282303, 0.49634182453...</td>\n",
       "      <td>12.743428</td>\n",
       "      <td>1</td>\n",
       "      <td>1</td>\n",
       "    </tr>\n",
       "    <tr>\n",
       "      <th>3</th>\n",
       "      <td>00000003</td>\n",
       "      <td>1.0</td>\n",
       "      <td>[14.2519397736, -3.34089517593, 0.631735026836...</td>\n",
       "      <td>14.251940</td>\n",
       "      <td>0</td>\n",
       "      <td>0</td>\n",
       "    </tr>\n",
       "    <tr>\n",
       "      <th>4</th>\n",
       "      <td>00000004</td>\n",
       "      <td>1.0</td>\n",
       "      <td>[-3.21961069107, -2.96179223061, -3.2213973999...</td>\n",
       "      <td>15.806371</td>\n",
       "      <td>4</td>\n",
       "      <td>4</td>\n",
       "    </tr>\n",
       "  </tbody>\n",
       "</table>\n",
       "</div>"
      ],
      "text/plain": [
       "   SampleID  Accuracy                                             Scores  \\\n",
       "0  00000000       1.0  [-1.49965691566, 1.01030933857, 1.5530872345, ...   \n",
       "1  00000001       1.0  [3.19119620323, 6.26545763016, 22.5383586884, ...   \n",
       "2  00000002       1.0  [-0.657418489456, 12.7434282303, 0.49634182453...   \n",
       "3  00000003       1.0  [14.2519397736, -3.34089517593, 0.631735026836...   \n",
       "4  00000004       1.0  [-3.21961069107, -2.96179223061, -3.2213973999...   \n",
       "\n",
       "    MaxScore  Prediction  Label  \n",
       "0  18.340185           7      7  \n",
       "1  22.538359           2      2  \n",
       "2  12.743428           1      1  \n",
       "3  14.251940           0      0  \n",
       "4  15.806371           4      4  "
      ]
     },
     "execution_count": 22,
     "metadata": {},
     "output_type": "execute_result"
    }
   ],
   "source": [
    "def maxScoreAndIndex(array_of_scores): \n",
    "    return max(enumerate(array_of_scores), key=lambda x: x[1])\n",
    "g = sqlContext.createDataFrame(f.map(lambda row: (\n",
    "            row.SampleID,\n",
    "            row.accuracy[0],\n",
    "            row.ip2,\n",
    "            maxScoreAndIndex(row.ip2)[1],\n",
    "            maxScoreAndIndex(row.ip2)[0],\n",
    "            int(row.label[0]))), \n",
    "            [\"SampleID\", \"Accuracy\", \"Scores\", \"MaxScore\", \"Prediction\", \"Label\"])\n",
    "g.toPandas()[:5]"
   ]
  },
  {
   "cell_type": "markdown",
   "metadata": {
    "collapsed": true
   },
   "source": [
    "###  Logistic Regression using MLlib"
   ]
  },
  {
   "cell_type": "code",
   "execution_count": 23,
   "metadata": {
    "collapsed": true
   },
   "outputs": [],
   "source": [
    "from pyspark.mllib.linalg import Vectors\n",
    "from pyspark.mllib.regression import LabeledPoint\n",
    "from pyspark.mllib.classification import LogisticRegressionWithLBFGS"
   ]
  },
  {
   "cell_type": "code",
   "execution_count": 24,
   "metadata": {
    "collapsed": true
   },
   "outputs": [],
   "source": [
    "data = f.map(lambda row: LabeledPoint(row.label[0], Vectors.dense(row.ip1)))"
   ]
  },
  {
   "cell_type": "code",
   "execution_count": 25,
   "metadata": {
    "collapsed": false
   },
   "outputs": [],
   "source": [
    "lr = LogisticRegressionWithLBFGS.train(data, numClasses=10, iterations=10)"
   ]
  },
  {
   "cell_type": "code",
   "execution_count": 26,
   "metadata": {
    "collapsed": true
   },
   "outputs": [],
   "source": [
    "predictions = lr.predict(data.map(lambda pt : pt.features))"
   ]
  },
  {
   "cell_type": "code",
   "execution_count": 27,
   "metadata": {
    "collapsed": false
   },
   "outputs": [
    {
     "data": {
      "text/plain": [
       "[7, 2, 1, 0, 4]"
      ]
     },
     "execution_count": 27,
     "metadata": {},
     "output_type": "execute_result"
    }
   ],
   "source": [
    "predictions.take(5)"
   ]
  }
 ],
 "metadata": {
  "kernelspec": {
   "display_name": "Python 2",
   "language": "python",
   "name": "python2"
  },
  "language_info": {
   "codemirror_mode": {
    "name": "ipython",
    "version": 2
   },
   "file_extension": ".py",
   "mimetype": "text/x-python",
   "name": "python",
   "nbconvert_exporter": "python",
   "pygments_lexer": "ipython2",
   "version": "2.7.11"
  }
 },
 "nbformat": 4,
 "nbformat_minor": 0
}
